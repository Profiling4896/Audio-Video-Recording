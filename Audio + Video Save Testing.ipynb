{
 "cells": [
  {
   "cell_type": "code",
   "execution_count": null,
   "id": "7718edb1",
   "metadata": {},
   "outputs": [],
   "source": [
    "# pip install moviepy\n",
    "# pip install opencv-python-headless pyaudio moviepy"
   ]
  },
  {
   "cell_type": "code",
   "execution_count": 19,
   "id": "384f0628",
   "metadata": {},
   "outputs": [
    {
     "data": {
      "text/plain": [
       "   0 Microsoft Sound Mapper - Input, MME (2 in, 0 out)\n",
       ">  1 Microphone (Realtek(R) Audio), MME (2 in, 0 out)\n",
       "   2 Microsoft Sound Mapper - Output, MME (0 in, 2 out)\n",
       "<  3 Speakers (Realtek(R) Audio), MME (0 in, 2 out)\n",
       "   4 Primary Sound Capture Driver, Windows DirectSound (2 in, 0 out)\n",
       "   5 Microphone (Realtek(R) Audio), Windows DirectSound (2 in, 0 out)\n",
       "   6 Primary Sound Driver, Windows DirectSound (0 in, 2 out)\n",
       "   7 Speakers (Realtek(R) Audio), Windows DirectSound (0 in, 2 out)\n",
       "   8 Realtek ASIO, ASIO (2 in, 2 out)\n",
       "   9 Speakers (Realtek(R) Audio), Windows WASAPI (0 in, 2 out)\n",
       "  10 Microphone (Realtek(R) Audio), Windows WASAPI (2 in, 0 out)\n",
       "  11 Microphone (Realtek HD Audio Mic input), Windows WDM-KS (2 in, 0 out)\n",
       "  12 Speakers (Realtek HD Audio output), Windows WDM-KS (0 in, 2 out)\n",
       "  13 Stereo Mix (Realtek HD Audio Stereo input), Windows WDM-KS (2 in, 0 out)"
      ]
     },
     "execution_count": 19,
     "metadata": {},
     "output_type": "execute_result"
    }
   ],
   "source": [
    "import sounddevice as sd\n",
    "\n",
    "sd.query_devices() "
   ]
  },
  {
   "cell_type": "code",
   "execution_count": null,
   "id": "63cd1007",
   "metadata": {},
   "outputs": [],
   "source": []
  },
  {
   "cell_type": "markdown",
   "id": "d8a1f1bc",
   "metadata": {},
   "source": [
    "# Version 1"
   ]
  },
  {
   "cell_type": "code",
   "execution_count": 13,
   "id": "cb5d1081",
   "metadata": {},
   "outputs": [],
   "source": [
    "import cv2\n",
    "import pyaudio\n",
    "import wave\n",
    "from moviepy.editor import VideoFileClip, AudioFileClip"
   ]
  },
  {
   "cell_type": "code",
   "execution_count": 41,
   "id": "6295440e",
   "metadata": {
    "scrolled": true
   },
   "outputs": [
    {
     "name": "stdout",
     "output_type": "stream",
     "text": [
      "Recording...\n",
      "Finished recording.\n",
      "Moviepy - Building video final_output.mp4.\n",
      "MoviePy - Writing audio in final_outputTEMP_MPY_wvf_snd.mp4\n"
     ]
    },
    {
     "name": "stderr",
     "output_type": "stream",
     "text": [
      "                                                                    \r"
     ]
    },
    {
     "name": "stdout",
     "output_type": "stream",
     "text": [
      "MoviePy - Done.\n",
      "Moviepy - Writing video final_output.mp4\n",
      "\n"
     ]
    },
    {
     "name": "stderr",
     "output_type": "stream",
     "text": [
      "                                                               \r"
     ]
    },
    {
     "name": "stdout",
     "output_type": "stream",
     "text": [
      "Moviepy - Done !\n",
      "Moviepy - video ready final_output.mp4\n",
      "Finished saving final video.\n"
     ]
    }
   ],
   "source": [
    "# Define video capture paramters\n",
    "cap = cv2.VideoCapture(0)\n",
    "fourcc = cv2.VideoWriter_fourcc(*'XVID')\n",
    "out = cv2.VideoWriter('output.avi', fourcc, 30, (640, 480))\n",
    "\n",
    "\n",
    "# Define audio recording parameters\n",
    "FORMAT = pyaudio.paInt16  # Audio format (16-bit PCM)\n",
    "CHANNELS = 1  # Number of audio channels (1 for mono, 2 for stereo)\n",
    "RATE = 30000  # Sample rate (samples per second) # 30000 for 30 fps on this laptop\n",
    "CHUNK = 1024  # Number of frames per buffer\n",
    "\n",
    "# Set the volume of the input device (change index to your input device)\n",
    "input_device_index = 1  # Change this to your input device index\n",
    "input_volume = 1  # Adjust this value (0.0 to 1.0) to set volume\n",
    "\n",
    "audio = pyaudio.PyAudio()\n",
    "stream = audio.open(format=FORMAT,\n",
    "                    channels=CHANNELS,\n",
    "                    rate=RATE,\n",
    "                    input=True,\n",
    "                    frames_per_buffer=CHUNK,\n",
    "                    input_device_index = input_device_index)\n",
    "\n",
    "stream.input_device_gain = input_volume\n",
    "\n",
    "frames = []\n",
    "print(\"Recording...\")\n",
    "\n",
    "record_audio = True\n",
    "while cap.isOpened() and record_audio:\n",
    "    ret, frame = cap.read()\n",
    "    if not ret:\n",
    "        break\n",
    "    \n",
    "    # Display the video frame in a window\n",
    "    cv2.imshow('Video', frame)\n",
    "    \n",
    "    # Write video frames to the output file\n",
    "    out.write(frame)\n",
    "\n",
    "    # Record audio frames continuously until the video is being recorded\n",
    "    data = stream.read(CHUNK)\n",
    "    frames.append(data)\n",
    "    \n",
    "    # Check for the 'q' key press to stop recording\n",
    "    if cv2.waitKey(1) & 0xFF == ord('q'):\n",
    "        record_audio = False\n",
    "        break\n",
    "\n",
    "print(\"Finished recording.\")\n",
    "\n",
    "# Release video resources\n",
    "out.release()\n",
    "cap.release()\n",
    "cv2.destroyAllWindows()\n",
    "\n",
    "# Stop and close the audio stream\n",
    "stream.stop_stream()\n",
    "stream.close()\n",
    "audio.terminate()\n",
    "\n",
    "# Save the recorded audio to a WAV file\n",
    "audio_file = \"audio.wav\"\n",
    "with wave.open(audio_file, 'wb') as wf:\n",
    "    wf.setnchannels(CHANNELS)\n",
    "    wf.setsampwidth(audio.get_sample_size(FORMAT))\n",
    "    wf.setframerate(RATE)\n",
    "    wf.writeframes(b''.join(frames))\n",
    "\n",
    "# Combine video and audio using moviepy\n",
    "video = VideoFileClip('output.avi').set_fps(30)\n",
    "audio = AudioFileClip(audio_file)\n",
    "\n",
    "video = video.set_audio(audio)\n",
    "output_path = 'final_output.mp4'\n",
    "video.write_videofile(output_path, codec='libx264', audio_codec='aac')\n",
    "\n",
    "print(\"Finished saving final video.\")"
   ]
  },
  {
   "cell_type": "markdown",
   "id": "6cdc39de",
   "metadata": {},
   "source": [
    "# Version 2"
   ]
  },
  {
   "cell_type": "code",
   "execution_count": 16,
   "id": "d401fb5e",
   "metadata": {},
   "outputs": [],
   "source": [
    "import cv2\n",
    "import pyaudio\n",
    "import wave\n",
    "import numpy as np\n",
    "\n",
    "# Initialize video capture\n",
    "video_capture = cv2.VideoCapture(0)  # You can change this to your video file\n",
    "\n",
    "# Define the codec and create VideoWriter object\n",
    "fourcc = cv2.VideoWriter_fourcc(*'XVID')\n",
    "video_output = cv2.VideoWriter('output.avi', fourcc, 20.0, (640, 480))  # Adjust resolution as needed\n",
    "\n",
    "# Audio settings\n",
    "audio_format = pyaudio.paInt16\n",
    "audio_channels = 1\n",
    "audio_rate = 44100\n",
    "audio_chunk = 1024\n",
    "\n",
    "# Initialize audio recording\n",
    "audio = pyaudio.PyAudio()\n",
    "audio_stream = audio.open(format=audio_format,\n",
    "                          channels=audio_channels,\n",
    "                          rate=audio_rate,\n",
    "                          input=True,\n",
    "                          frames_per_buffer=audio_chunk)\n",
    "\n",
    "audio_frames = []\n",
    "\n",
    "while True:\n",
    "    ret, frame = video_capture.read()\n",
    "    if not ret:\n",
    "        break\n",
    "\n",
    "    # Display video frame\n",
    "    cv2.imshow('Video', frame)\n",
    "    \n",
    "    # Record audio\n",
    "    audio_data = audio_stream.read(audio_chunk)\n",
    "    audio_frames.append(audio_data)\n",
    "\n",
    "    # Write video frame to output file\n",
    "    video_output.write(frame)\n",
    "\n",
    "    # Break the loop if 'q' is pressed\n",
    "    if cv2.waitKey(1) & 0xFF == ord('q'):\n",
    "        break\n",
    "\n",
    "# Release everything when done\n",
    "video_capture.release()\n",
    "video_output.release()\n",
    "cv2.destroyAllWindows()\n",
    "\n",
    "# Save audio to a WAV file\n",
    "audio_stream.stop_stream()\n",
    "audio_stream.close()\n",
    "audio.terminate()\n",
    "\n",
    "with wave.open('audio_output.wav', 'wb') as wf:\n",
    "    wf.setnchannels(audio_channels)\n",
    "    wf.setsampwidth(audio.get_sample_size(audio_format))\n",
    "    wf.setframerate(audio_rate)\n",
    "    wf.writeframes(b''.join(audio_frames))\n"
   ]
  },
  {
   "cell_type": "code",
   "execution_count": null,
   "id": "8665e30e",
   "metadata": {},
   "outputs": [],
   "source": []
  },
  {
   "cell_type": "code",
   "execution_count": null,
   "id": "6682ba7b",
   "metadata": {},
   "outputs": [],
   "source": []
  },
  {
   "cell_type": "code",
   "execution_count": null,
   "id": "e4f3b2fc",
   "metadata": {},
   "outputs": [],
   "source": []
  },
  {
   "cell_type": "code",
   "execution_count": null,
   "id": "3def50ca",
   "metadata": {},
   "outputs": [],
   "source": []
  },
  {
   "cell_type": "code",
   "execution_count": null,
   "id": "c2390b24",
   "metadata": {},
   "outputs": [],
   "source": []
  },
  {
   "cell_type": "code",
   "execution_count": null,
   "id": "e2f060af",
   "metadata": {},
   "outputs": [],
   "source": []
  }
 ],
 "metadata": {
  "kernelspec": {
   "display_name": "Python 3 (ipykernel)",
   "language": "python",
   "name": "python3"
  },
  "language_info": {
   "codemirror_mode": {
    "name": "ipython",
    "version": 3
   },
   "file_extension": ".py",
   "mimetype": "text/x-python",
   "name": "python",
   "nbconvert_exporter": "python",
   "pygments_lexer": "ipython3",
   "version": "3.9.12"
  }
 },
 "nbformat": 4,
 "nbformat_minor": 5
}
